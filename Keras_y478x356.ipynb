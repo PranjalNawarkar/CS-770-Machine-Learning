{
  "nbformat": 4,
  "nbformat_minor": 0,
  "metadata": {
    "colab": {
      "provenance": []
    },
    "kernelspec": {
      "name": "python3",
      "display_name": "Python 3"
    },
    "language_info": {
      "name": "python"
    }
  },
  "cells": [
    {
      "cell_type": "code",
      "source": [
        "#Name: Pranjal Nawarkar\n",
        "#WSU ID: y478x356"
      ],
      "metadata": {
        "id": "cLmHahGW7VQB"
      },
      "execution_count": 75,
      "outputs": []
    },
    {
      "cell_type": "code",
      "source": [
        "# Problem Statement:\n",
        "# In this assignment, I am solving a a classification problem using a deep neural network. the classification problem is to categorize images of fashion items.\n",
        "# Specifically, I will be using the Fashion MNIST dataset, where task is to classify fashion images\n",
        "# into 10 different categories. Each class corresponds to a specific type of clothing or accessory.\n",
        "# I am implementing a deep neural network using Keras' functional API as mentioned in assignment,\n",
        "# train the model, evaluate its performance on a test set, and visualize the training history.\n",
        "\n",
        "#The 10 classes in the Fashion MNIST dataset are typically: T-shirt/top, Trouser, Pullover, Dress, Coat, Sandal, Shirt, Sneaker, Bag, Ankle boot..\n",
        "\n",
        "#The model implemented aims to learn the relationships between the pixel values in the input images and the corresponding classes.\n",
        "#After training, the model is classifying unseen images of fashion items into one of these 10 categories.\n",
        "#The evaluation of the model is based on accuracy, which measures the percentage of correctly classified instances on the test set."
      ],
      "metadata": {
        "id": "1P6Y66nI4W3p"
      },
      "execution_count": 76,
      "outputs": []
    },
    {
      "cell_type": "code",
      "execution_count": 77,
      "metadata": {
        "id": "uSt8Pebs_gus"
      },
      "outputs": [],
      "source": [
        "# Importing libraries\n",
        "import numpy as np\n",
        "\n",
        "import matplotlib.pyplot as plt\n",
        "\n",
        "from keras.models import Model\n",
        "from keras.layers import Input, Dense, Flatten\n",
        "from keras.datasets import fashion_mnist\n",
        "from keras.utils import to_categorical\n",
        "from keras.layers import Dropout\n",
        "\n",
        "from sklearn.metrics import accuracy_score\n",
        "\n",
        "# Loading and preprocessing the Fashion MNIST dataset\n",
        "(x_train, y_train), (x_test, y_test) = fashion_mnist.load_data()"
      ]
    },
    {
      "cell_type": "code",
      "source": [
        "# Normalizing pixel values to be between 0 and 1\n",
        "x_train, x_test = x_train / 255.0, x_test / 255.0"
      ],
      "metadata": {
        "id": "ArHBKbJt_wW5"
      },
      "execution_count": 78,
      "outputs": []
    },
    {
      "cell_type": "code",
      "source": [
        "# Flattening the images to a 1D array of 28*28 = 784 pixels\n",
        "\n",
        "#this is preparing the image data for input to a neural network.\n",
        "#By flattening the images into 1D arrays, each pixel in the original 2D image is represented as a separate feature in the\n",
        "#flattened array. This step is crucial when working with dense layers in neural networks, as they require one-dimensional input.\n",
        "\n",
        "\n",
        "x_train = x_train.reshape((x_train.shape[0], -1))\n",
        "x_test = x_test.reshape((x_test.shape[0], -1))\n"
      ],
      "metadata": {
        "id": "1_HJ0H48ALj0"
      },
      "execution_count": 79,
      "outputs": []
    },
    {
      "cell_type": "code",
      "source": [
        "# Convert labels to one-hot encoding\n",
        "y_train = to_categorical(y_train, 10)\n",
        "y_test = to_categorical(y_test, 10)"
      ],
      "metadata": {
        "id": "4WFVgxG6AO-I"
      },
      "execution_count": 80,
      "outputs": []
    },
    {
      "cell_type": "code",
      "source": [
        "#Below I introduce non-linearity, regularization (through dropout), and normalization (through batch normalization)\n",
        "# to enhance the learning and generalization capabilities of the neural network."
      ],
      "metadata": {
        "id": "NWMJVk8Q5ofz"
      },
      "execution_count": 81,
      "outputs": []
    },
    {
      "cell_type": "code",
      "source": [
        "#hidden_layer_1 is a dense layer with 128 neurons and ReLU activation.\n",
        "#The use of ReLU introduces non-linearity to the model.\n",
        "#Dropout (dropout_1) is applied to prevent overfitting, and Batch Normalization (batch_norm_layer_1) helps stabilize and speed up training.\n",
        "\n",
        "#Second layer operates on the output of the first hidden layer after dropout and batch normalization. Dropout (dropout_2) is applied again for regularization.\n",
        "\n",
        "#Output layer = The softmax activation function is used to convert the raw output into probabilities, enabling classificationn\n",
        "\n",
        "\n",
        "from keras.layers import BatchNormalization\n",
        "\n",
        "# Building the neural network using Keras' functional API\n",
        "input_layer = Input(shape=(784,))\n",
        "\n",
        "#This is the first HIDDEN layer\n",
        "hidden_layer_1 = Dense(128, activation='relu')(input_layer)\n",
        "dropout_1 = Dropout(0.3)(hidden_layer_1)\n",
        "# Applying batch normalization to hidden_layer_1\n",
        "batch_norm_layer_1 = BatchNormalization()(dropout_1)\n",
        "\n",
        "#this is second hidden lay\n",
        "hidden_layer_2 = Dense(64, activation='relu')(batch_norm_layer_1)  # Use batch_norm_layer_1 as the input here\n",
        "dropout_2 = Dropout(0.3)(hidden_layer_2)\n",
        "\n",
        "#op layer\n",
        "output_layer = Dense(10, activation='softmax')(dropout_2)\n",
        "\n"
      ],
      "metadata": {
        "id": "xBqUfe7FATys"
      },
      "execution_count": 82,
      "outputs": []
    },
    {
      "cell_type": "code",
      "source": [
        "#model = Model(inputs=input_layer, outputs=output_layer)\n",
        "# above - tried resetting the model\n"
      ],
      "metadata": {
        "id": "-tL4GxLFBG9d"
      },
      "execution_count": 83,
      "outputs": []
    },
    {
      "cell_type": "code",
      "source": [
        "#In th below code, a neural network for Fashion MNIST classification is initially compiled and trained with the Adam optimizer,\n",
        "#categorical cross-entropy loss, and accuracy as the metric.\n",
        "#The training history (history_original) is stored. The model's summary is then displayed.\n",
        "#The model is recompiled with an adjusted learning rate of 0.001 using Adam and trained again for 10 epochs with a batch size of 64.\n",
        "#I've stored the training history for adjusted configuration in history_adjusted.\n",
        "#These steps compare the model's performance under different training configurations, particularly focusing on the influence of learning rate and batch size.\n",
        "\n",
        "\n",
        "\n",
        "# Compiling the model with the original configuration\n",
        "model.compile(optimizer='adam', loss='categorical_crossentropy', metrics=['accuracy'])\n",
        "\n",
        "# Training the model with the original configuration\n",
        "history_original = model.fit(x_train, y_train, epochs=10, batch_size=32, validation_split=0.2, verbose=2)\n",
        "\n",
        "# Displaying the model summary\n",
        "model.summary()\n",
        "\n",
        "# Compiling the model with adjusted learning rate\n",
        "from keras.optimizers import Adam\n",
        "model.compile(optimizer=Adam(learning_rate=0.001), loss='categorical_crossentropy', metrics=['accuracy'])\n",
        "\n",
        "# Training the model with adjusted learning rate and different batch sizess\n",
        "history_adjusted = model.fit(x_train, y_train, epochs=10, batch_size=64, validation_split=0.2, verbose=2)\n",
        "\n"
      ],
      "metadata": {
        "colab": {
          "base_uri": "https://localhost:8080/"
        },
        "id": "lEgZ3L6SBLEq",
        "outputId": "3bbf22ad-1498-457d-ed99-586bed36c2cb"
      },
      "execution_count": 84,
      "outputs": [
        {
          "output_type": "stream",
          "name": "stdout",
          "text": [
            "Epoch 1/10\n",
            "1500/1500 - 11s - loss: 0.3457 - accuracy: 0.8746 - val_loss: 0.3467 - val_accuracy: 0.8796 - 11s/epoch - 7ms/step\n",
            "Epoch 2/10\n",
            "1500/1500 - 8s - loss: 0.3567 - accuracy: 0.8703 - val_loss: 0.3458 - val_accuracy: 0.8820 - 8s/epoch - 5ms/step\n",
            "Epoch 3/10\n",
            "1500/1500 - 9s - loss: 0.3554 - accuracy: 0.8715 - val_loss: 0.3554 - val_accuracy: 0.8727 - 9s/epoch - 6ms/step\n",
            "Epoch 4/10\n",
            "1500/1500 - 9s - loss: 0.3477 - accuracy: 0.8746 - val_loss: 0.3415 - val_accuracy: 0.8791 - 9s/epoch - 6ms/step\n",
            "Epoch 5/10\n",
            "1500/1500 - 8s - loss: 0.3511 - accuracy: 0.8722 - val_loss: 0.3406 - val_accuracy: 0.8778 - 8s/epoch - 5ms/step\n",
            "Epoch 6/10\n",
            "1500/1500 - 9s - loss: 0.3489 - accuracy: 0.8723 - val_loss: 0.3440 - val_accuracy: 0.8782 - 9s/epoch - 6ms/step\n",
            "Epoch 7/10\n",
            "1500/1500 - 9s - loss: 0.3537 - accuracy: 0.8710 - val_loss: 0.3457 - val_accuracy: 0.8812 - 9s/epoch - 6ms/step\n",
            "Epoch 8/10\n",
            "1500/1500 - 12s - loss: 0.3544 - accuracy: 0.8701 - val_loss: 0.3527 - val_accuracy: 0.8757 - 12s/epoch - 8ms/step\n",
            "Epoch 9/10\n",
            "1500/1500 - 12s - loss: 0.3528 - accuracy: 0.8714 - val_loss: 0.3494 - val_accuracy: 0.8788 - 12s/epoch - 8ms/step\n",
            "Epoch 10/10\n",
            "1500/1500 - 8s - loss: 0.3530 - accuracy: 0.8715 - val_loss: 0.3474 - val_accuracy: 0.8792 - 8s/epoch - 6ms/step\n",
            "Model: \"model_11\"\n",
            "_________________________________________________________________\n",
            " Layer (type)                Output Shape              Param #   \n",
            "=================================================================\n",
            " input_10 (InputLayer)       [(None, 784)]             0         \n",
            "                                                                 \n",
            " dense_20 (Dense)            (None, 128)               100480    \n",
            "                                                                 \n",
            " dropout_9 (Dropout)         (None, 128)               0         \n",
            "                                                                 \n",
            " batch_normalization_1 (Bat  (None, 128)               512       \n",
            " chNormalization)                                                \n",
            "                                                                 \n",
            " dense_21 (Dense)            (None, 64)                8256      \n",
            "                                                                 \n",
            " dropout_10 (Dropout)        (None, 64)                0         \n",
            "                                                                 \n",
            " dense_22 (Dense)            (None, 10)                650       \n",
            "                                                                 \n",
            "=================================================================\n",
            "Total params: 109898 (429.29 KB)\n",
            "Trainable params: 109642 (428.29 KB)\n",
            "Non-trainable params: 256 (1.00 KB)\n",
            "_________________________________________________________________\n",
            "Epoch 1/10\n",
            "750/750 - 9s - loss: 0.3141 - accuracy: 0.8857 - val_loss: 0.3419 - val_accuracy: 0.8881 - 9s/epoch - 12ms/step\n",
            "Epoch 2/10\n",
            "750/750 - 5s - loss: 0.3089 - accuracy: 0.8862 - val_loss: 0.3455 - val_accuracy: 0.8846 - 5s/epoch - 7ms/step\n",
            "Epoch 3/10\n",
            "750/750 - 6s - loss: 0.3090 - accuracy: 0.8870 - val_loss: 0.3475 - val_accuracy: 0.8844 - 6s/epoch - 8ms/step\n",
            "Epoch 4/10\n",
            "750/750 - 5s - loss: 0.3029 - accuracy: 0.8885 - val_loss: 0.3474 - val_accuracy: 0.8810 - 5s/epoch - 6ms/step\n",
            "Epoch 5/10\n",
            "750/750 - 6s - loss: 0.3001 - accuracy: 0.8899 - val_loss: 0.3500 - val_accuracy: 0.8780 - 6s/epoch - 7ms/step\n",
            "Epoch 6/10\n",
            "750/750 - 4s - loss: 0.3017 - accuracy: 0.8900 - val_loss: 0.3413 - val_accuracy: 0.8857 - 4s/epoch - 6ms/step\n",
            "Epoch 7/10\n",
            "750/750 - 5s - loss: 0.3008 - accuracy: 0.8909 - val_loss: 0.3392 - val_accuracy: 0.8853 - 5s/epoch - 7ms/step\n",
            "Epoch 8/10\n",
            "750/750 - 5s - loss: 0.2953 - accuracy: 0.8922 - val_loss: 0.3398 - val_accuracy: 0.8845 - 5s/epoch - 6ms/step\n",
            "Epoch 9/10\n",
            "750/750 - 5s - loss: 0.2953 - accuracy: 0.8926 - val_loss: 0.3395 - val_accuracy: 0.8864 - 5s/epoch - 6ms/step\n",
            "Epoch 10/10\n",
            "750/750 - 6s - loss: 0.2943 - accuracy: 0.8920 - val_loss: 0.3335 - val_accuracy: 0.8855 - 6s/epoch - 8ms/step\n"
          ]
        }
      ]
    },
    {
      "cell_type": "code",
      "source": [
        "# Evaluating the model on the test set\n",
        "y_pred = model.predict(x_test)\n",
        "y_pred_classes = np.argmax(y_pred, axis=1)\n",
        "y_test_classes = np.argmax(y_test, axis=1)"
      ],
      "metadata": {
        "colab": {
          "base_uri": "https://localhost:8080/"
        },
        "id": "-9MRhW9ZDpgr",
        "outputId": "c9ed944d-2415-4df4-f404-708eb5c3c0b7"
      },
      "execution_count": 85,
      "outputs": [
        {
          "output_type": "stream",
          "name": "stdout",
          "text": [
            "313/313 [==============================] - 1s 3ms/step\n"
          ]
        }
      ]
    },
    {
      "cell_type": "code",
      "source": [
        "# Printimg its accuracy\n",
        "accuracy = accuracy_score(y_test_classes, y_pred_classes)\n",
        "print(f'Test Accuracy: {accuracy:.4f}')\n",
        "\n"
      ],
      "metadata": {
        "colab": {
          "base_uri": "https://localhost:8080/"
        },
        "id": "qmeytTO8EViO",
        "outputId": "a4e4d793-d9bb-4d11-9c5e-80e77b9a9136"
      },
      "execution_count": 86,
      "outputs": [
        {
          "output_type": "stream",
          "name": "stdout",
          "text": [
            "Test Accuracy: 0.8804\n"
          ]
        }
      ]
    },
    {
      "cell_type": "code",
      "source": [
        "# Now, Plotting training history with loss\n",
        "plt.plot(history.history['accuracy'], label='Train Accuracy')\n",
        "plt.plot(history.history['val_accuracy'], label='Validation Accuracy')\n",
        "plt.plot(history.history['loss'], label='Train Loss')  # Add this line\n",
        "plt.plot(history.history['val_loss'], label='Validation Loss')  # Add this line\n",
        "plt.title('Model Metrics')\n",
        "plt.xlabel('Epochs')\n",
        "plt.legend()\n",
        "plt.show()\n"
      ],
      "metadata": {
        "colab": {
          "base_uri": "https://localhost:8080/",
          "height": 472
        },
        "id": "CMk85IbEEcfn",
        "outputId": "b6888837-94f3-4f79-9443-c32a71f81a2b"
      },
      "execution_count": 87,
      "outputs": [
        {
          "output_type": "display_data",
          "data": {
            "text/plain": [
              "<Figure size 640x480 with 1 Axes>"
            ],
            "image/png": "[encoded data removed]"
          },
          "metadata": {}
        }
      ]
    },
    {
      "cell_type": "code",
      "source": [
        "# Simple words:- In this assignment, I used a computer to teach itself to recognize different types of clothing in pictures.\n",
        "# First, I loaded a special dataset called Fashion MNIST that had pictures of clothes like shirts, shoes, etc.\n",
        "# Then, made sure the computer could understand the pictures by adjusting the colors to be between 0 and 1\n",
        "# and squishing the pictures into a simpler format (flattening).\n",
        "\n",
        "# The code taught the computer what each picture represented (like a label on clothes) using a technique called one-hot encoding.\n",
        "\n",
        "# For the brain of our computer (the neural network), I used Keras and its functional API.\n",
        "# I created layers in the neural n/w, like thinking steps, that could understand the pictures and figure out which type of clothing was in each picture.\n",
        "\n",
        "# After setting up the neural n/w, I trained it by showing lots of pictures and correcting its guesses.\n",
        "# I did this first with a regular setup and then adjusted some settings like how quickly it learns and how many pictures it looks at each time.\n",
        "\n",
        "# Finally, tested the neural.\n",
        "\n",
        "# USED:-\n",
        "# Keras library- API, and utilized layers like Dense, Dropout, BatchNormalization, and the Adam optimizer to build the model."
      ],
      "metadata": {
        "id": "MSjuzsfZ-aZr"
      },
      "execution_count": null,
      "outputs": []
    }
  ]
}